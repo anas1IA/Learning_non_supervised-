{
  "nbformat": 4,
  "nbformat_minor": 0,
  "metadata": {
    "colab": {
      "provenance": [],
      "authorship_tag": "ABX9TyNIpn71qvyHKnZpRI4jqUYd",
      "include_colab_link": true
    },
    "kernelspec": {
      "name": "python3",
      "display_name": "Python 3"
    },
    "language_info": {
      "name": "python"
    }
  },
  "cells": [
    {
      "cell_type": "markdown",
      "metadata": {
        "id": "view-in-github",
        "colab_type": "text"
      },
      "source": [
        "<a href=\"https://colab.research.google.com/github/anas1IA/Learning_non_supervised-/blob/main/Tp_unsupervised_learning.ipynb\" target=\"_parent\"><img src=\"https://colab.research.google.com/assets/colab-badge.svg\" alt=\"Open In Colab\"/></a>"
      ]
    },
    {
      "cell_type": "markdown",
      "source": [
        "\n",
        "# Partition clustering et Hierarchical clustering sont deux approches différentes pour regrouper des données en clusters.\n",
        "\n",
        "##1)Partition Clustering :\n",
        "\n",
        "**Dans la partition clustering**, on divise les données en un nombre fixe de clusters dès le départ.\n",
        "\n",
        "**Les méthodes de partition clustering**les plus populaires incluent K-Means, K-Medoids et Gaussian Mixture Models (GMM).\n",
        "Ces méthodes nécessitent généralement de spécifier le nombre de clusters à l'avance.\n",
        "\n",
        "**Les algorithmes de partition clustering** ont généralement une complexité inférieure à celle des méthodes de clustering hiérarchique.\n",
        "Hierarchical Clustering :\n",
        "\n",
        "##2)Dans le clustering hiérarchique, les données sont regroupées en une structure d'arborescence (dendrogramme) où les clusters à un niveau supérieur contiennent des clusters à un niveau inférieur.\n",
        "**Les méthodes de clustering hiérarchique** peuvent être divisées en deux types : agglomératif (ascendant) et divisif (descendant). L'algorithme CHA mentionné précédemment est un exemple d'agglomératif.\n",
        "**Les méthodes de clustering hiérarchique** ne nécessitent pas de spécifier le nombre de clusters à l'avance. Au lieu de cela, elles fournissent une vue globale de la structure des données.\n",
        "Ces méthodes sont souvent utilisées lorsqu'il est intéressant d'observer les relations de similarité entre les données à différents niveaux d'agrégation.\n",
        "Les algorithmes de clustering hiérarchique sont souvent plus coûteux en termes de calcul que les méthodes de partitionnement, en particulier pour de grandes quantités de données.\n",
        "\n",
        "le lien pour comprendre cluster :\n",
        "\n",
        " explainghttps://www.youtube.com/watch?v=ex77cTkRArs\n",
        "\n",
        "https://www.youtube.com/watch?v=vg1w5ZUF5lA\n",
        "\n",
        "code implementation :https://www.youtube.com/watch?v=l4vTwXL_5Cc"
      ],
      "metadata": {
        "id": "khZqDslJDg82"
      }
    },
    {
      "cell_type": "markdown",
      "source": [
        "\n",
        "###L'algorithme CHA (Clustering by Hierarchical Agglomerative Clustering) est un algorithme de regroupement hiérarchique agglomératif largement utilisé. Voici comment implémenter CHA avec les méthodes de regroupement demandées :\n",
        "\n",
        "**Single linkage** : Dans cette méthode, la distance minimale entre les éléments des deux clusters est utilisée comme critère de regroupement.\n",
        "\n",
        "**Complete linkage** : Cette méthode utilise la distance maximale entre les éléments des deux clusters comme critère de regroupement.\n",
        "\n",
        "**Group average** : Ici, la moyenne des distances entre chaque paire d'éléments des deux clusters est utilisée comme critère de regroupement.\n",
        "\n",
        "**Ward**: La méthode de Ward minimise la variance lors de la fusion des clusters.\n",
        "\n",
        "**Centroid**: Cette méthode utilise la distance entre les centroids (moyennes) des clusters comme critère de regroupement"
      ],
      "metadata": {
        "id": "Ux5v96eK3IvI"
      }
    },
    {
      "cell_type": "code",
      "execution_count": null,
      "metadata": {
        "id": "WwBs1fMU24Ip"
      },
      "outputs": [],
      "source": [
        "import pandas as pd"
      ]
    }
  ]
}