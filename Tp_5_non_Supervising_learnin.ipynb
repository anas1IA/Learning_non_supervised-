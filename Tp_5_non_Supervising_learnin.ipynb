{
  "nbformat": 4,
  "nbformat_minor": 0,
  "metadata": {
    "colab": {
      "provenance": [],
      "authorship_tag": "ABX9TyMZnlRDT7eeZa0OicvatAOx",
      "include_colab_link": true
    },
    "kernelspec": {
      "name": "python3",
      "display_name": "Python 3"
    },
    "language_info": {
      "name": "python"
    }
  },
  "cells": [
    {
      "cell_type": "markdown",
      "metadata": {
        "id": "view-in-github",
        "colab_type": "text"
      },
      "source": [
        "<a href=\"https://colab.research.google.com/github/anas1IA/Learning_non_supervised-/blob/main/Tp_5_non_Supervising_learnin.ipynb\" target=\"_parent\"><img src=\"https://colab.research.google.com/assets/colab-badge.svg\" alt=\"Open In Colab\"/></a>"
      ]
    },
    {
      "cell_type": "code",
      "execution_count": null,
      "metadata": {
        "id": "gc1NWpZtyz0G"
      },
      "outputs": [],
      "source": [
        "import padas as pd\n",
        "import mat"
      ]
    },
    {
      "cell_type": "markdown",
      "source": [
        "**I 'm  going this tp asap  this day**"
      ],
      "metadata": {
        "id": "b50XYGEQy8Yg"
      }
    }
  ]
}